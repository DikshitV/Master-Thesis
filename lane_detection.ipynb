{
 "cells": [
  {
   "cell_type": "code",
   "execution_count": 2,
   "metadata": {},
   "outputs": [
    {
     "name": "stdout",
     "output_type": "stream",
     "text": [
      "Current working directory: /home/dvenkate/Master-Thesis-Lateral-Distance-From-Road-Lanes\n",
      "New working directory: /home/dvenkate/Master-Thesis-Lateral-Distance-From-Road-Lanes\n"
     ]
    }
   ],
   "source": [
    "# Deleting if any previous folder of darknet, training, obj \n",
    "import os\n",
    "import shutil\n",
    "print(\"Current working directory: {0}\".format(os.getcwd()))\n",
    "shutil.rmtree('darknet', ignore_errors=True)\n",
    "\n",
    "os.chdir(\"./yolo\")\n",
    "shutil.rmtree('training', ignore_errors=True)\n",
    "os.chdir(\"..\")\n",
    "print(\"New working directory: {0}\".format(os.getcwd()))"
   ]
  },
  {
   "cell_type": "code",
   "execution_count": null,
   "metadata": {},
   "outputs": [],
   "source": [
    "# Check whether GPU is provided\n",
    "!nvidia-smi\n",
    "!nvcc --version"
   ]
  },
  {
   "cell_type": "code",
   "execution_count": null,
   "metadata": {},
   "outputs": [],
   "source": [
    "# Install required packages and restart runtime (if required)\n",
    "%pip install opencv-python --upgrade\n",
    "import cv2\n",
    "\n",
    "#run this file if opencv is not found during makefile\n",
    "#sudo apt install libopencv-dev"
   ]
  },
  {
   "cell_type": "code",
   "execution_count": null,
   "metadata": {},
   "outputs": [],
   "source": [
    "# Check Python Version and import os to evaluate current directories\n",
    "!python3 --version\n",
    "import os"
   ]
  },
  {
   "cell_type": "code",
   "execution_count": null,
   "metadata": {},
   "outputs": [],
   "source": [
    "# Print the current working directory\n",
    "%cd Master-Thesis-Lateral-Distance-From-Road-Lanes/\n",
    "print(\"Current working directory: {0}\".format(os.getcwd()))"
   ]
  },
  {
   "cell_type": "code",
   "execution_count": null,
   "metadata": {},
   "outputs": [],
   "source": [
    "#Create yolo folder\n",
    "new_dir1 = os.path.join(os.getcwd(), r'yolo')\n",
    "if not os.path.exists(new_dir1):\n",
    "   os.makedirs(new_dir1)\n",
    "\n",
    "#Returns a list of every file and folder in a directory\n",
    "print(\"List of Current working directory: {0}\".format(os. listdir()))"
   ]
  },
  {
   "cell_type": "code",
   "execution_count": null,
   "metadata": {},
   "outputs": [],
   "source": [
    "#Change the path to create a new repository\n",
    "os.chdir(\"./yolo\")\n",
    "\n",
    "# Print the current working directory\n",
    "print(\"Current working directory: {0}\".format(os.getcwd()))\n",
    "\n",
    "#Creating a training folder to save the weights\n",
    "new_dir2 = os.path.join(os.getcwd(), r'training')\n",
    "if not os.path.exists(new_dir2):\n",
    "   os.makedirs(new_dir2)"
   ]
  },
  {
   "cell_type": "code",
   "execution_count": null,
   "metadata": {},
   "outputs": [],
   "source": [
    "#return back to main folder\n",
    "os.chdir(\"..\")\n",
    "\n",
    "# Print the current working directory\n",
    "print(\"Current working directory: {0}\".format(os.getcwd()))"
   ]
  },
  {
   "cell_type": "code",
   "execution_count": null,
   "metadata": {},
   "outputs": [],
   "source": [
    "#Clone darknet git repository onto the VS # Official YOLOv4 Implementation\n",
    "!git clone https://github.com/AlexeyAB/darknet"
   ]
  },
  {
   "cell_type": "code",
   "execution_count": null,
   "metadata": {},
   "outputs": [],
   "source": [
    "# Upload the Labeled custom dataset obj.zip file to the Yolo folder on your drive\n",
    "# Create your custom config file and upload it to yolo drive\n",
    "# Create your obj.data and obj.names files and upload them to yolo drive\n",
    "# Upload the process.py script file to the yolov folder on your drive"
   ]
  },
  {
   "cell_type": "code",
   "execution_count": null,
   "metadata": {},
   "outputs": [],
   "source": [
    "# Update the makefile to have GPU and OPENCV enabled\n",
    "%cd darknet\n",
    "!sed -i 's/OPENCV=0/OPENCV=1/' Makefile\n",
    "!sed -i 's/GPU=0/GPU=1/' Makefile\n",
    "!sed -i 's/CUDNN=0/CUDNN=1/' Makefile\n",
    "!sed -i 's/CUDNN_HALF=0/CUDNN_HALF=1/' Makefile\n",
    "!sed -i 's/LIBSO=0/LIBSO=1/' Makefile"
   ]
  },
  {
   "cell_type": "code",
   "execution_count": null,
   "metadata": {},
   "outputs": [],
   "source": [
    "# build darknet \n",
    "!make"
   ]
  },
  {
   "cell_type": "code",
   "execution_count": null,
   "metadata": {},
   "outputs": [],
   "source": [
    "#Checking the directory - to be removed\n",
    "print(\"Current working directory: {0}\".format(os.getcwd()))"
   ]
  },
  {
   "cell_type": "code",
   "execution_count": null,
   "metadata": {},
   "outputs": [],
   "source": [
    "# Clean the data and cfg folders first except the labels folder in data which is required\n",
    "%cd data/\n",
    "!find -maxdepth 1 -type f -exec rm -rf {} \\;\n",
    "%cd ..\n",
    "\n",
    "%rm -rf cfg/\n",
    "%mkdir cfg"
   ]
  },
  {
   "cell_type": "code",
   "execution_count": null,
   "metadata": {},
   "outputs": [],
   "source": [
    "#copy the datasets zip file to the root darknet folder\n",
    "!cp /home/dvenkate/Master-Thesis-Lateral-Distance-From-Road-Lanes/yolo/obj.zip ../\n",
    "\n",
    "# unzip the datasets and their contents so that they are now in /darknet/data/ folder\n",
    "!unzip ../obj.zip -d data/"
   ]
  },
  {
   "cell_type": "code",
   "execution_count": null,
   "metadata": {},
   "outputs": [],
   "source": [
    "#copy the custom cfg file from the drive to the darknet/cfg folder\n",
    "!cp /home/dvenkate/Master-Thesis-Lateral-Distance-From-Road-Lanes/yolo/yolo_custom.cfg ./cfg\n",
    "\n",
    "# copy the obj.names and obj.data files so that they are now in /darknet/data/ folder\n",
    "!cp /home/dvenkate/Master-Thesis-Lateral-Distance-From-Road-Lanes/yolo/obj.names ./data\n",
    "!cp /home/dvenkate/Master-Thesis-Lateral-Distance-From-Road-Lanes/yolo/obj.data  ./data\n",
    "\n",
    "#copy the process.py file from the drive to the darknet directory\n",
    "!cp /home/dvenkate/Master-Thesis-Lateral-Distance-From-Road-Lanes/yolo/process.py ./\n"
   ]
  },
  {
   "cell_type": "code",
   "execution_count": null,
   "metadata": {},
   "outputs": [],
   "source": [
    "# run process.py ( this creates the train.txt and test.txt files in our darknet/data folder )\n",
    "!python3 process.py\n",
    "\n",
    "# list the contents of data folder to check if the train.txt and test.txt files have been created \n",
    "!ls data/"
   ]
  },
  {
   "cell_type": "code",
   "execution_count": null,
   "metadata": {},
   "outputs": [],
   "source": [
    "# Download the yolov4-tiny pre-trained weights file\n",
    "!wget https://github.com/AlexeyAB/darknet/releases/download/darknet_yolo_v4_pre/yolov4-tiny.conv.29"
   ]
  },
  {
   "cell_type": "code",
   "execution_count": null,
   "metadata": {},
   "outputs": [],
   "source": [
    "# train your custom detector! (uncomment %%capture below if you run into memory issues or your Colab is crashing)\n",
    "# %%capture\n",
    "!./darknet detector train data/obj.data cfg/yolo_custom.cfg yolov4-tiny.conv.29 -dont_show -map"
   ]
  },
  {
   "cell_type": "code",
   "execution_count": null,
   "metadata": {},
   "outputs": [],
   "source": [
    "#to restart training your custom detector where you left off(using the weights that were saved last)\n",
    "\n",
    "!./darknet detector train data/obj.data cfg/yolo_custom.cfg /home/dvenkate/Master-Thesis-Lateral-Distance-From-Road-Lanes/yolo/training/yolo_custom_last.weights -dont_show -map"
   ]
  },
  {
   "cell_type": "code",
   "execution_count": null,
   "metadata": {},
   "outputs": [],
   "source": [
    "# define helper function imShow\n",
    "%pip install pyparsing\n",
    "%pip install matplotlib\n",
    "def imShow(path):\n",
    "  import cv2\n",
    "  import matplotlib.pyplot as plt\n",
    "  %matplotlib inline\n",
    "\n",
    "  image = cv2.imread(path)\n",
    "  height, width = image.shape[:2]\n",
    "  resized_image = cv2.resize(image,(3*width, 3*height), interpolation = cv2.INTER_CUBIC)\n",
    "\n",
    "  fig = plt.gcf()\n",
    "  fig.set_size_inches(18, 10)\n",
    "  plt.axis(\"off\")\n",
    "  plt.imshow(cv2.cvtColor(resized_image, cv2.COLOR_BGR2RGB))\n",
    "  #plt.show('')"
   ]
  },
  {
   "cell_type": "code",
   "execution_count": null,
   "metadata": {},
   "outputs": [],
   "source": [
    "imShow('chart.png')"
   ]
  },
  {
   "cell_type": "code",
   "execution_count": null,
   "metadata": {},
   "outputs": [],
   "source": [
    "#You can check the mAP for all the saved weights to see which gives the best results ( xxxx here is the saved weight number like 4000, 5000 or 6000 snd so on )\n",
    "\n",
    "!./darknet detector map data/obj.data cfg/yolo_custom.cfg /home/dvenkate/Master-Thesis-Lateral-Distance-From-Road-Lanes/yolo/training/yolo_custom_best.weights -points 0"
   ]
  },
  {
   "cell_type": "code",
   "execution_count": null,
   "metadata": {},
   "outputs": [],
   "source": [
    "#TEST your custom Object Detector\n",
    "#set your custom cfg to test mode \n",
    "%cd cfg\n",
    "!sed -i 's/batch=64/batch=1/' yolo_custom.cfg\n",
    "!sed -i 's/subdivisions=16/subdivisions=1/' yolo_custom.cfg\n",
    "%cd .."
   ]
  },
  {
   "cell_type": "code",
   "execution_count": null,
   "metadata": {},
   "outputs": [],
   "source": [
    "# run your custom detector with this command (upload an image to your google drive to test, the thresh flag sets the minimum accuracy required for object detection)\n",
    "\n",
    "!./darknet detector test data/obj.data cfg/yolo_custom.cfg /home/dvenkate/Master-Thesis-Lateral-Distance-From-Road-Lanes/yolo/training/yolo_custom_best.weights /home/dvenkate/Master-Thesis-Lateral-Distance-From-Road-Lanes/frame_000000.PNG -thresh 0.3\n",
    "imShow('predictions.jpg')"
   ]
  }
 ],
 "metadata": {
  "interpreter": {
   "hash": "607a0f773d388bfa9be954ec1a1be76e3374a858cfd60e4a442b172c480cd492"
  },
  "kernelspec": {
   "display_name": "Python 3.10.3 64-bit",
   "language": "python",
   "name": "python3"
  },
  "language_info": {
   "codemirror_mode": {
    "name": "ipython",
    "version": 3
   },
   "file_extension": ".py",
   "mimetype": "text/x-python",
   "name": "python",
   "nbconvert_exporter": "python",
   "pygments_lexer": "ipython3",
   "version": "3.6.9"
  },
  "orig_nbformat": 4
 },
 "nbformat": 4,
 "nbformat_minor": 2
}
